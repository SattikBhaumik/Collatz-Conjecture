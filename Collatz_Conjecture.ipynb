{
  "nbformat": 4,
  "nbformat_minor": 0,
  "metadata": {
    "colab": {
      "name": "Collatz Conjecture.ipynb",
      "provenance": [],
      "collapsed_sections": [],
      "authorship_tag": "ABX9TyMtgvEowXYPjZHVSUHfZKG6",
      "include_colab_link": true
    },
    "kernelspec": {
      "name": "python3",
      "display_name": "Python 3"
    },
    "language_info": {
      "name": "python"
    }
  },
  "cells": [
    {
      "cell_type": "markdown",
      "metadata": {
        "id": "view-in-github",
        "colab_type": "text"
      },
      "source": [
        "<a href=\"https://colab.research.google.com/github/SattikBhaumik/Collatz-Conjecture/blob/main/Collatz_Conjecture.ipynb\" target=\"_parent\"><img src=\"https://colab.research.google.com/assets/colab-badge.svg\" alt=\"Open In Colab\"/></a>"
      ]
    },
    {
      "cell_type": "code",
      "metadata": {
        "id": "QiKic-hW3Igy",
        "colab": {
          "base_uri": "https://localhost:8080/",
          "height": 368
        },
        "outputId": "57de19b9-7d57-40ba-807a-188ec8641eaf"
      },
      "source": [
        "import matplotlib.pyplot as plt\n",
        "import numpy as np\n",
        "c=0\n",
        "a=[]\n",
        "b=[]\n",
        "x=input('Enter the initial number:')\n",
        "x=float(x)\n",
        "while(x!=1):\n",
        "  if(x%2==0):\n",
        "    x=x/2\n",
        "    a.append(x)\n",
        "    c=c+1\n",
        "\n",
        "  elif(x%2!=0):\n",
        "    x=3*x+1\n",
        "    a.append(x)\n",
        "    c=c+1\n",
        "for i in range(len(a)):\n",
        "  b.append(i)\n",
        "print(a)\n",
        "print(b)\n",
        "print('Iterations:',c)\n",
        "xpoints=np.array([b])\n",
        "ypoints=np.array([a])\n",
        "plt.ylabel('Output value')\n",
        "plt.xlabel('Input value')\n",
        "plt.scatter(xpoints, ypoints)\n",
        "plt.show()"
      ],
      "execution_count": null,
      "outputs": [
        {
          "output_type": "stream",
          "name": "stdout",
          "text": [
            "Enter the initial number:2500\n",
            "[1250.0, 625.0, 1876.0, 938.0, 469.0, 1408.0, 704.0, 352.0, 176.0, 88.0, 44.0, 22.0, 11.0, 34.0, 17.0, 52.0, 26.0, 13.0, 40.0, 20.0, 10.0, 5.0, 16.0, 8.0, 4.0, 2.0, 1.0]\n",
            "[0, 1, 2, 3, 4, 5, 6, 7, 8, 9, 10, 11, 12, 13, 14, 15, 16, 17, 18, 19, 20, 21, 22, 23, 24, 25, 26]\n",
            "Iterations: 27\n"
          ]
        },
        {
          "output_type": "display_data",
          "data": {
            "text/plain": [
              "<Figure size 432x288 with 1 Axes>"
            ],
            "image/png": "[encoded data removed]"
          },
          "metadata": {
            "needs_background": "light"
          }
        }
      ]
    }
  ]
}